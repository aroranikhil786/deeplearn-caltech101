{
 "cells": [
  {
   "cell_type": "code",
   "execution_count": 6,
   "metadata": {},
   "outputs": [],
   "source": [
    "from keras.models import Sequential\n",
    "from keras.layers import Dense, Flatten, Dropout\n",
    "from keras.utils import np_utils\n",
    "from keras import applications\n",
    "from keras.preprocessing import image\n",
    "from skimage import io, exposure, color, transform\n",
    "from sklearn.model_selection import train_test_split\n",
    "import numpy as np\n",
    "import cPickle as pickle\n",
    "import h5py as h5py\n",
    "import os"
   ]
  },
  {
   "cell_type": "code",
   "execution_count": 7,
   "metadata": {
    "collapsed": true
   },
   "outputs": [],
   "source": [
    "%matplotlib inline\n",
    "\n",
    "# constants and hyperparameters\n",
    "wrk_dir = '/home/ramcharan/deeplearn/caltech/core'\n",
    "IMG_SIZE = 200\n",
    "NUM_CLASSES = 101"
   ]
  },
  {
   "cell_type": "code",
   "execution_count": 8,
   "metadata": {
    "collapsed": true
   },
   "outputs": [],
   "source": [
    "def preprocess_img(img):\n",
    "    try:\n",
    "        hsv = color.rgb2hsv(img)\n",
    "    except:\n",
    "        rgb_img = color.gray2rgb(img)\n",
    "        hsv = color.rgb2hsv(rgb_img)\n",
    "        \n",
    "    hsv[:, :, 2] = exposure.equalize_hist(hsv[:, :, 2])\n",
    "    img = color.hsv2rgb(hsv)\n",
    "    \n",
    "    min_side = min(img.shape[:-1])\n",
    "    center = img.shape[0] // 2, img.shape[1] // 2\n",
    "    img = img[center[0] - min_side // 2:center[0] + min_side // 2,\n",
    "              center[1] - min_side // 2:center[1] + min_side // 2,\n",
    "              :]\n",
    "    \n",
    "    img = transform.resize(img, (IMG_SIZE, IMG_SIZE))\n",
    "    \n",
    "    return img"
   ]
  },
  {
   "cell_type": "code",
   "execution_count": 9,
   "metadata": {
    "collapsed": true
   },
   "outputs": [],
   "source": [
    "def get_img_and_classes():\n",
    "    base_data_dir = '/home/ramcharan/deeplearn/caltech/core/data/categories/'\n",
    "    \n",
    "    images = {}\n",
    "    classes = {}\n",
    "    \n",
    "    categories = [categ for categ in os.listdir(base_data_dir)]\n",
    "    categories.remove('BACKGROUND_Google')\n",
    "    \n",
    "    for category in categories:\n",
    "        print category\n",
    "        for img_file in os.listdir(base_data_dir + category):\n",
    "            img = preprocess_img(io.imread(base_data_dir + category + '/' + img_file))\n",
    "            images[category + '/' + img_file] = img\n",
    "            classes[category + '/' + img_file] = category\n",
    "            \n",
    "    with open('img_dict.p', 'wb') as imd, open('class_dict.p', 'wb') as cld:\n",
    "        pickle.dump(images, imd, protocol=pickle.HIGHEST_PROTOCOL)\n",
    "        pickle.dump(classes, cld, protocol=pickle.HIGHEST_PROTOCOL)\n",
    "        \n",
    "    return images, classes"
   ]
  },
  {
   "cell_type": "code",
   "execution_count": null,
   "metadata": {
    "collapsed": true
   },
   "outputs": [],
   "source": []
  },
  {
   "cell_type": "code",
   "execution_count": 10,
   "metadata": {},
   "outputs": [],
   "source": [
    "if ('img_dict.p' not in os.listdir(wrk_dir)) or ('class_dict.p' not in os.listdir(wrk_dir)):\n",
    "    images, classes = get_img_and_classes()\n",
    "else:\n",
    "    with open('img_dict.p', 'rb') as imd, open('class_dict.p', 'rb') as cld:\n",
    "        images = pickle.load(imd)\n",
    "        classes = pickle.load(cld)"
   ]
  },
  {
   "cell_type": "code",
   "execution_count": 11,
   "metadata": {
    "collapsed": true
   },
   "outputs": [],
   "source": [
    "x, y = [], []\n",
    "\n",
    "for img_file in images.keys():\n",
    "    x.append(images[img_file])\n",
    "    y.append(classes[img_file])\n",
    "    \n",
    "x = np.array(x, dtype='float32')\n",
    "\n",
    "str_uniq_list, int_coded_uniq_list = np.unique(y, return_inverse=True)\n",
    "y = np_utils.to_categorical(int_coded_uniq_list, NUM_CLASSES)\n",
    "\n",
    "x_train, x_test, y_train, y_test = train_test_split(x, y, test_size=0.3)"
   ]
  },
  {
   "cell_type": "code",
   "execution_count": 19,
   "metadata": {
    "scrolled": false
   },
   "outputs": [
    {
     "name": "stdout",
     "output_type": "stream",
     "text": [
      "input_15 (None, 224, 224, 3)\n",
      "block1_conv1 (None, 224, 224, 64)\n",
      "block1_conv2 (None, 224, 224, 64)\n",
      "block1_pool (None, 112, 112, 64)\n",
      "block2_conv1 (None, 112, 112, 128)\n",
      "block2_conv2 (None, 112, 112, 128)\n",
      "block2_pool (None, 56, 56, 128)\n",
      "block3_conv1 (None, 56, 56, 256)\n",
      "block3_conv2 (None, 56, 56, 256)\n",
      "block3_conv3 (None, 56, 56, 256)\n",
      "block3_conv4 (None, 56, 56, 256)\n",
      "block3_pool (None, 28, 28, 256)\n",
      "block4_conv1 (None, 28, 28, 512)\n",
      "block4_conv2 (None, 28, 28, 512)\n",
      "block4_conv3 (None, 28, 28, 512)\n",
      "block4_conv4 (None, 28, 28, 512)\n",
      "block4_pool (None, 14, 14, 512)\n",
      "block5_conv1 (None, 14, 14, 512)\n",
      "block5_conv2 (None, 14, 14, 512)\n",
      "block5_conv3 (None, 14, 14, 512)\n",
      "block5_conv4 (None, 14, 14, 512)\n",
      "block5_pool (None, 7, 7, 512)\n",
      "flatten (None, 25088)\n",
      "fc1 (None, 4096)\n",
      "fc2 (None, 4096)\n",
      "predictions (None, 1000)\n"
     ]
    }
   ],
   "source": [
    "hehe = applications.VGG19(weights='imagenet', include_top=True)\n",
    "haha = applications.VGG19(weights='imagenet', include_top=False, input_shape=(IMG_SIZE, IMG_SIZE, 3))\n",
    "\n",
    "for layer in hehe.layers:\n",
    "    print layer.name, layer.output_shape\n",
    "    \n",
    "# for layer in haha.layers:\n",
    "#     print layer.name, layer.output_shape"
   ]
  },
  {
   "cell_type": "code",
   "execution_count": null,
   "metadata": {},
   "outputs": [],
   "source": [
    "# def setup_for_transfer_learning():\n",
    "# TRANSFER_LEARNING_SETUP\n",
    "\n",
    "base_model = applications.VGG19(weights='imagenet', include_top=False, input_shape = (IMG_SIZE, IMG_SIZE, 3))\n",
    "\n",
    "for layer in base_model.layers:\n",
    "    layer.trainable = False\n",
    "    \n",
    "full_model = Sequential()\n",
    "full_model.add(base_model)\n",
    "# full_model.add(Dense(512, input_shape=(6, 6, 512), activation='relu'))\n",
    "\n",
    "full_model.add(Flatten())\n",
    "full_model.add(Dense(256, activation='relu'))\n",
    "full_model.add(Dense(256, activation='relu'))\n",
    "full_model.add(Dropout(0.5))\n",
    "full_model.add(Dense(NUM_CLASSES, activation='softmax'))\n",
    "\n",
    "full_model.compile(optimizer='rmsprop', loss='categorical_crossentropy', metrics=['accuracy'])\n",
    "\n",
    "full_model.fit(x_train, y_train, epochs=20, batch_size=16)\n",
    "\n"
   ]
  },
  {
   "cell_type": "code",
   "execution_count": null,
   "metadata": {
    "collapsed": true
   },
   "outputs": [],
   "source": []
  },
  {
   "cell_type": "code",
   "execution_count": null,
   "metadata": {
    "collapsed": true
   },
   "outputs": [],
   "source": []
  }
 ],
 "metadata": {
  "kernelspec": {
   "display_name": "Python 2",
   "language": "python",
   "name": "python2"
  },
  "language_info": {
   "codemirror_mode": {
    "name": "ipython",
    "version": 2
   },
   "file_extension": ".py",
   "mimetype": "text/x-python",
   "name": "python",
   "nbconvert_exporter": "python",
   "pygments_lexer": "ipython2",
   "version": "2.7.13"
  }
 },
 "nbformat": 4,
 "nbformat_minor": 2
}
